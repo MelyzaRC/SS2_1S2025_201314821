{
 "cells": [
  {
   "cell_type": "markdown",
   "id": "fce0f3de",
   "metadata": {},
   "source": [
    "# Práctica No. 2"
   ]
  },
  {
   "cell_type": "code",
   "execution_count": 11,
   "id": "5e20140b",
   "metadata": {},
   "outputs": [
    {
     "name": "stdout",
     "output_type": "stream",
     "text": [
      "\n",
      "9595 DATOS EXTRAÍDOS CON ÉXITO\n",
      "\n",
      "\n"
     ]
    }
   ],
   "source": [
    "import pandas as pd\n",
    "\n",
    "path = \"data.csv\"\n",
    "try:\n",
    "    df = pd.read_csv(path)\n",
    "    print(\"\\n\" + str(len(df)) +  \" DATOS EXTRAÍDOS CON ÉXITO\\n\\n\")\n",
    "except Exception as e:\n",
    "    print(f\"ERROR AL EXTRAER INFORMACIÓN DEL ARCHIVO: {e}\")\n",
    "    "
   ]
  }
 ],
 "metadata": {
  "kernelspec": {
   "display_name": "Python 3",
   "language": "python",
   "name": "python3"
  },
  "language_info": {
   "codemirror_mode": {
    "name": "ipython",
    "version": 3
   },
   "file_extension": ".py",
   "mimetype": "text/x-python",
   "name": "python",
   "nbconvert_exporter": "python",
   "pygments_lexer": "ipython3",
   "version": "3.12.6"
  }
 },
 "nbformat": 4,
 "nbformat_minor": 5
}
